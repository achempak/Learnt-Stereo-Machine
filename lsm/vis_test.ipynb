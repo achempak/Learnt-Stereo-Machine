{
 "cells": [
  {
   "cell_type": "code",
   "execution_count": 1,
   "metadata": {},
   "outputs": [],
   "source": [
    "import sys\n",
    "import os\n",
    "sys.path.insert(0, os.getcwd())\n",
    "\n",
    "import torch\n",
    "from kaolin.conversions.voxelgridconversions import voxelgrid_to_pointcloud\n",
    "from kaolin.rep import VoxelGrid, PointCloud\n",
    "from vis_tools import *\n",
    "from shapenet_pytorch import ShapeNetDataset\n",
    "from IPython.display import display\n",
    "from IPython.core.display import HTML\n",
    "import pandas as pd\n",
    "from pyntcloud import PyntCloud"
   ]
  },
  {
   "cell_type": "code",
   "execution_count": 2,
   "metadata": {},
   "outputs": [],
   "source": [
    "# Definition of threshold function used by kaolin\n",
    "\n",
    "# def threshold(voxel: Union[torch.Tensor, VoxelGrid], thresh: float,\n",
    "#               inplace: Optional[bool] = True):\n",
    "#     r\"\"\"Binarizes the voxel array using a specified threshold.\n",
    "\n",
    "#     Args:\n",
    "#         voxel (torch.Tensor): Voxel array to be binarized.\n",
    "#         thresh (float): Threshold with which to binarize.\n",
    "#         inplace (bool, optional): Bool to make the operation in-place.\n",
    "\n",
    "#     Returns:\n",
    "#         (torch.Tensor): Thresholded voxel array.\n",
    "\n",
    "#     \"\"\"\n",
    "#     if isinstance(voxel, VoxelGrid):\n",
    "#         voxel = voxel.voxels\n",
    "#     if not inplace:\n",
    "#         voxel = voxel.clone()\n",
    "#     helpers._assert_tensor(voxel)\n",
    "#     voxel[voxel <= thresh] = 0\n",
    "#     voxel[voxel > thresh] = 1\n",
    "#     return voxel"
   ]
  },
  {
   "cell_type": "code",
   "execution_count": 3,
   "metadata": {},
   "outputs": [
    {
     "data": {
      "text/plain": [
       "'/media/adityac/Storage/Learnt-Stereo-Machine/lsm'"
      ]
     },
     "execution_count": 3,
     "metadata": {},
     "output_type": "execute_result"
    }
   ],
   "source": [
    "sys.path[0]"
   ]
  },
  {
   "cell_type": "code",
   "execution_count": 4,
   "metadata": {},
   "outputs": [],
   "source": [
    "device = torch.device(\"cuda\" if torch.cuda.is_available() else \"cpu\")\n",
    "\n",
    "vox_dir =  os.path.join(sys.path[0], 'shapenet_sample/voxels/modelVoxels64')\n",
    "im_dir = os.path.join(sys.path[0], 'shapenet_sample/renders')\n",
    "split_file = os.path.join(sys.path[0], 'shapenet_sample/splits_sample.json')"
   ]
  },
  {
   "cell_type": "code",
   "execution_count": 5,
   "metadata": {},
   "outputs": [
    {
     "name": "stdout",
     "output_type": "stream",
     "text": [
      "imgs shape(4, 3, 224, 224)\n",
      "imgs type<class 'numpy.ndarray'>\n"
     ]
    }
   ],
   "source": [
    "categories = ['bench']\n",
    "dataset = ShapeNetDataset(im_dir, vox_dir, 4, 64, split_file, train=False, categories=categories)\n",
    "imgs, vol, K, R = dataset[0]\n",
    "print(\"imgs shape\" + str(imgs.shape))\n",
    "print(\"imgs type\" + str(type(imgs)))"
   ]
  },
  {
   "cell_type": "code",
   "execution_count": 6,
   "metadata": {},
   "outputs": [
    {
     "data": {
      "image/png": "[encoded data removed]",
      "text/plain": [
       "<Figure size 432x288 with 4 Axes>"
      ]
     },
     "metadata": {
      "needs_background": "light"
     },
     "output_type": "display_data"
    }
   ],
   "source": [
    "plot_images(imgs, \"test.png\")"
   ]
  },
  {
   "cell_type": "code",
   "execution_count": 7,
   "metadata": {},
   "outputs": [
    {
     "data": {
      "text/plain": [
       "(1, 64, 64, 64)"
      ]
     },
     "execution_count": 7,
     "metadata": {},
     "output_type": "execute_result"
    }
   ],
   "source": [
    "vol.shape"
   ]
  },
  {
   "cell_type": "code",
   "execution_count": 8,
   "metadata": {},
   "outputs": [
    {
     "name": "stdout",
     "output_type": "stream",
     "text": [
      "torch.Size([64, 64, 64])\n"
     ]
    }
   ],
   "source": [
    "v = torch.Tensor(vol[0])\n",
    "print(v.shape)\n",
    "cloud = voxelgrid_to_pointcloud(v, num_points=int((v.shape[0]/2)**3), thresh=0.0, mode='full', normalize=False)"
   ]
  },
  {
   "cell_type": "code",
   "execution_count": 9,
   "metadata": {},
   "outputs": [
    {
     "name": "stdout",
     "output_type": "stream",
     "text": [
      "False\n"
     ]
    }
   ],
   "source": [
    "print(cloud.requires_grad)"
   ]
  },
  {
   "cell_type": "code",
   "execution_count": 10,
   "metadata": {},
   "outputs": [
    {
     "data": {
      "text/plain": [
       "torch.Size([32768, 3])"
      ]
     },
     "execution_count": 10,
     "metadata": {},
     "output_type": "execute_result"
    }
   ],
   "source": [
    "cloud.shape"
   ]
  },
  {
   "cell_type": "code",
   "execution_count": 11,
   "metadata": {},
   "outputs": [
    {
     "data": {
      "text/plain": [
       "tensor([[37.0946, 42.7997, 32.7311],\n",
       "        [36.4013,  8.8228, 32.9272],\n",
       "        [37.8101, 42.8278, 32.1450],\n",
       "        [26.4096, 11.1800, 38.4260],\n",
       "        [32.3065, 43.1297, 20.2477],\n",
       "        [29.2166, 16.7340, 32.4907],\n",
       "        [36.0941, 59.8592, 37.9696],\n",
       "        [30.8882, 47.1702, 32.3605],\n",
       "        [38.3240, 55.5272, 38.1303],\n",
       "        [26.7625, 21.5943, 32.4198],\n",
       "        [33.2982, 12.3272, 32.2909],\n",
       "        [37.1709,  4.7158, 32.7081],\n",
       "        [33.4670, 49.6522, 30.9372],\n",
       "        [29.3498, 26.9935, 32.9409],\n",
       "        [34.4199, 44.9232, 31.4407]])"
      ]
     },
     "execution_count": 11,
     "metadata": {},
     "output_type": "execute_result"
    }
   ],
   "source": [
    "cloud[:15]"
   ]
  },
  {
   "cell_type": "code",
   "execution_count": 12,
   "metadata": {},
   "outputs": [
    {
     "data": {
      "text/html": [
       "<div>\n",
       "<style scoped>\n",
       "    .dataframe tbody tr th:only-of-type {\n",
       "        vertical-align: middle;\n",
       "    }\n",
       "\n",
       "    .dataframe tbody tr th {\n",
       "        vertical-align: top;\n",
       "    }\n",
       "\n",
       "    .dataframe thead th {\n",
       "        text-align: right;\n",
       "    }\n",
       "</style>\n",
       "<table border=\"1\" class=\"dataframe\">\n",
       "  <thead>\n",
       "    <tr style=\"text-align: right;\">\n",
       "      <th></th>\n",
       "      <th>x</th>\n",
       "      <th>y</th>\n",
       "      <th>z</th>\n",
       "    </tr>\n",
       "  </thead>\n",
       "  <tbody>\n",
       "    <tr>\n",
       "      <th>0</th>\n",
       "      <td>37.094589</td>\n",
       "      <td>42.799740</td>\n",
       "      <td>32.731068</td>\n",
       "    </tr>\n",
       "    <tr>\n",
       "      <th>1</th>\n",
       "      <td>36.401344</td>\n",
       "      <td>8.822797</td>\n",
       "      <td>32.927212</td>\n",
       "    </tr>\n",
       "    <tr>\n",
       "      <th>2</th>\n",
       "      <td>37.810055</td>\n",
       "      <td>42.827774</td>\n",
       "      <td>32.144989</td>\n",
       "    </tr>\n",
       "    <tr>\n",
       "      <th>3</th>\n",
       "      <td>26.409649</td>\n",
       "      <td>11.180004</td>\n",
       "      <td>38.425957</td>\n",
       "    </tr>\n",
       "    <tr>\n",
       "      <th>4</th>\n",
       "      <td>32.306458</td>\n",
       "      <td>43.129696</td>\n",
       "      <td>20.247749</td>\n",
       "    </tr>\n",
       "  </tbody>\n",
       "</table>\n",
       "</div>"
      ],
      "text/plain": [
       "           x          y          z\n",
       "0  37.094589  42.799740  32.731068\n",
       "1  36.401344   8.822797  32.927212\n",
       "2  37.810055  42.827774  32.144989\n",
       "3  26.409649  11.180004  38.425957\n",
       "4  32.306458  43.129696  20.247749"
      ]
     },
     "execution_count": 12,
     "metadata": {},
     "output_type": "execute_result"
    }
   ],
   "source": [
    "points = pd.DataFrame(cloud.numpy())\n",
    "points.columns = ['x', 'y', 'z']\n",
    "points.head()"
   ]
  },
  {
   "cell_type": "code",
   "execution_count": 13,
   "metadata": {},
   "outputs": [
    {
     "data": {
      "text/plain": [
       "PyntCloud\n",
       "32768 points with 0 scalar fields\n",
       "0 faces in mesh\n",
       "0 kdtrees\n",
       "0 voxelgrids\n",
       "Centroid: 31.441619873046875, 29.057846069335938, 33.08564376831055\n",
       "Other attributes:"
      ]
     },
     "execution_count": 13,
     "metadata": {},
     "output_type": "execute_result"
    }
   ],
   "source": [
    "pynts = PyntCloud(points)\n",
    "pynts"
   ]
  },
  {
   "cell_type": "code",
   "execution_count": 14,
   "metadata": {},
   "outputs": [
    {
     "data": {
      "image/png": "[encoded data removed]",
      "text/plain": [
       "<Figure size 720x720 with 1 Axes>"
      ]
     },
     "metadata": {
      "needs_background": "light"
     },
     "output_type": "display_data"
    }
   ],
   "source": [
    "pynts.plot(azim=10)"
   ]
  },
  {
   "cell_type": "code",
   "execution_count": 99,
   "metadata": {},
   "outputs": [
    {
     "name": "stdout",
     "output_type": "stream",
     "text": [
      "Help on function plot in module pyntcloud.core_class:\n",
      "\n",
      "plot(self, backend=None, scene=None, width=800, height=500, background='black', mesh=False, use_as_color=['red', 'green', 'blue'], initial_point_size=None, cmap='hsv', polylines=None, linewidth=5, return_scene=False, output_name='pyntcloud_plot', elev=0.0, azim=90.0, **kwargs)\n",
      "    Visualize a PyntCloud  using different backends.\n",
      "    \n",
      "    Parameters\n",
      "    ----------\n",
      "    backend: {\"pythreejs\", \"threejs\", \"pyvista\", \"matplotlib\"}, optional\n",
      "        Default: \"pythreejs\"\n",
      "        Used to select one of the available libraries for plotting.\n",
      "    \n",
      "    width: int, optional\n",
      "        Default: 800\n",
      "    \n",
      "    height: int, optional\n",
      "        Default: 500\n",
      "    \n",
      "    background: str, optional\n",
      "        Default: \"black\"\n",
      "        Used to select the default color of the background.\n",
      "        In some backends, i.e \"pythreejs\" the background can be dynamically changed.\n",
      "    \n",
      "    use_as_color: str or [\"red\", \"green\", \"blue\"], optional\n",
      "        Default: [\"red\", \"green\", \"blue\"]\n",
      "        Indicates which scalar fields will be used to colorize the rendered\n",
      "        point cloud.\n",
      "    \n",
      "    initial_point_size: the initial size of each point in the rendered point cloud.\n",
      "        Can be adjusted after rendering using slider.\n",
      "    \n",
      "    cmap: str, optional\n",
      "        Default: \"hsv\"\n",
      "        Color map that will be used to convert a single scalar field into rgb.\n",
      "        Check matplotlib cmaps.\n",
      "    \n",
      "    return_scene: bool, optional\n",
      "        Default: False.\n",
      "        Used with \"pythreejs\" backend in order to return the pythreejs.Scene object\n",
      "    \n",
      "    polylines: list of dict, optional\n",
      "        Default None.\n",
      "        List of dictionaries defining polylines with the following syntax:\n",
      "        polylines=[\n",
      "            {\n",
      "                \"color\": \"0xFFFFFF\",\n",
      "                \"vertices\": [[0, 0, 0], [0, 0, 1]]\n",
      "            },\n",
      "            {           {\n",
      "                \"color\": \"red\",\n",
      "                \"vertices\": [[0, 0, 0], [0, 0, 1], [0, 2, 0]\n",
      "            }\n",
      "        ]\n",
      "    elev: float\n",
      "        Elevation angle in the z plane. Used for matplotlib\n",
      "    azim: float\n",
      "        Azimuth angle in the x,y plane.\n",
      "\n"
     ]
    }
   ],
   "source": [
    "help(PyntCloud.plot)"
   ]
  },
  {
   "cell_type": "code",
   "execution_count": null,
   "metadata": {},
   "outputs": [],
   "source": []
  }
 ],
 "metadata": {
  "kernelspec": {
   "display_name": "Python 3",
   "language": "python",
   "name": "python3"
  },
  "language_info": {
   "codemirror_mode": {
    "name": "ipython",
    "version": 3
   },
   "file_extension": ".py",
   "mimetype": "text/x-python",
   "name": "python",
   "nbconvert_exporter": "python",
   "pygments_lexer": "ipython3",
   "version": "3.6.10"
  }
 },
 "nbformat": 4,
 "nbformat_minor": 4
}
