{
 "cells": [
  {
   "cell_type": "code",
   "execution_count": 2,
   "metadata": {},
   "outputs": [],
   "source": [
    "import sys\n",
    "import os\n",
    "sys.path.insert(0, os.getcwd())\n",
    "\n",
    "import torch\n",
    "from kaolin.conversions.voxelgridconversions import voxelgrid_to_pointcloud\n",
    "from kaolin.rep import VoxelGrid, PointCloud\n",
    "from vis_tools import *\n",
    "from shapenet_pytorch import ShapeNetDataset\n",
    "from IPython.display import display\n",
    "from IPython.core.display import HTML\n",
    "import pandas as pd\n",
    "from pyntcloud import PyntCloud"
   ]
  },
  {
   "cell_type": "code",
   "execution_count": 3,
   "metadata": {},
   "outputs": [],
   "source": [
    "# Definition of threshold function used by kaolin\n",
    "\n",
    "# def threshold(voxel: Union[torch.Tensor, VoxelGrid], thresh: float,\n",
    "#               inplace: Optional[bool] = True):\n",
    "#     r\"\"\"Binarizes the voxel array using a specified threshold.\n",
    "\n",
    "#     Args:\n",
    "#         voxel (torch.Tensor): Voxel array to be binarized.\n",
    "#         thresh (float): Threshold with which to binarize.\n",
    "#         inplace (bool, optional): Bool to make the operation in-place.\n",
    "\n",
    "#     Returns:\n",
    "#         (torch.Tensor): Thresholded voxel array.\n",
    "\n",
    "#     \"\"\"\n",
    "#     if isinstance(voxel, VoxelGrid):\n",
    "#         voxel = voxel.voxels\n",
    "#     if not inplace:\n",
    "#         voxel = voxel.clone()\n",
    "#     helpers._assert_tensor(voxel)\n",
    "#     voxel[voxel <= thresh] = 0\n",
    "#     voxel[voxel > thresh] = 1\n",
    "#     return voxel"
   ]
  },
  {
   "cell_type": "code",
   "execution_count": 4,
   "metadata": {},
   "outputs": [
    {
     "data": {
      "text/plain": [
       "'/media/adityac/Storage/Learnt-Stereo-Machine/lsm'"
      ]
     },
     "execution_count": 4,
     "metadata": {},
     "output_type": "execute_result"
    }
   ],
   "source": [
    "sys.path[0]"
   ]
  },
  {
   "cell_type": "code",
   "execution_count": 5,
   "metadata": {},
   "outputs": [],
   "source": [
    "device = torch.device(\"cuda\" if torch.cuda.is_available() else \"cpu\")\n",
    "\n",
    "vox_dir =  os.path.join(sys.path[0], 'shapenet_sample/voxels/modelVoxels64')\n",
    "im_dir = os.path.join(sys.path[0], 'shapenet_sample/renders')\n",
    "split_file = os.path.join(sys.path[0], 'shapenet_sample/splits_sample.json')"
   ]
  },
  {
   "cell_type": "code",
   "execution_count": 6,
   "metadata": {},
   "outputs": [
    {
     "name": "stdout",
     "output_type": "stream",
     "text": [
      "imgs shape(4, 3, 224, 224)\n",
      "imgs type<class 'numpy.ndarray'>\n"
     ]
    }
   ],
   "source": [
    "categories = ['bench']\n",
    "dataset = ShapeNetDataset(im_dir, vox_dir, 4, 64, split_file, train=False, categories=categories)\n",
    "imgs, vol, K, R = dataset[0]\n",
    "print(\"imgs shape\" + str(imgs.shape))\n",
    "print(\"imgs type\" + str(type(imgs)))"
   ]
  },
  {
   "cell_type": "code",
   "execution_count": 7,
   "metadata": {},
   "outputs": [
    {
     "data": {
      "image/png": "[encoded data removed]",
      "text/plain": [
       "<Figure size 432x288 with 4 Axes>"
      ]
     },
     "metadata": {
      "needs_background": "light"
     },
     "output_type": "display_data"
    }
   ],
   "source": [
    "plot_images(imgs, \"test.png\")"
   ]
  },
  {
   "cell_type": "code",
   "execution_count": 8,
   "metadata": {},
   "outputs": [
    {
     "data": {
      "text/plain": [
       "(1, 64, 64, 64)"
      ]
     },
     "execution_count": 8,
     "metadata": {},
     "output_type": "execute_result"
    }
   ],
   "source": [
    "vol.shape"
   ]
  },
  {
   "cell_type": "code",
   "execution_count": 9,
   "metadata": {},
   "outputs": [
    {
     "name": "stdout",
     "output_type": "stream",
     "text": [
      "torch.Size([64, 64, 64])\n"
     ]
    }
   ],
   "source": [
    "v = torch.Tensor(vol[0])\n",
    "print(v.shape)\n",
    "cloud = voxelgrid_to_pointcloud(v, num_points=int((v.shape[0]/2)**3), thresh=0.0, mode='full', normalize=False)"
   ]
  },
  {
   "cell_type": "code",
   "execution_count": 10,
   "metadata": {},
   "outputs": [
    {
     "name": "stdout",
     "output_type": "stream",
     "text": [
      "False\n"
     ]
    }
   ],
   "source": [
    "print(cloud.requires_grad)"
   ]
  },
  {
   "cell_type": "code",
   "execution_count": 80,
   "metadata": {},
   "outputs": [
    {
     "data": {
      "text/plain": [
       "torch.Size([32768, 3])"
      ]
     },
     "execution_count": 80,
     "metadata": {},
     "output_type": "execute_result"
    }
   ],
   "source": [
    "cloud.shape"
   ]
  },
  {
   "cell_type": "code",
   "execution_count": 81,
   "metadata": {},
   "outputs": [
    {
     "data": {
      "text/plain": [
       "tensor([[34.7825, 27.1161, 32.1576],\n",
       "        [30.0844, 17.0511, 30.4146],\n",
       "        [28.5260, 28.5791, 30.8936],\n",
       "        [37.6119,  3.0941, 30.7890],\n",
       "        [32.3628, 13.7414, 31.5636],\n",
       "        [26.5038, 29.5258, 37.2535],\n",
       "        [25.8172, 11.3701, 42.8797],\n",
       "        [26.1030,  8.7745, 34.2599],\n",
       "        [24.2901, 39.4402, 43.3027],\n",
       "        [33.5136, 45.8522, 30.5477],\n",
       "        [26.3750, 11.7012, 34.3576],\n",
       "        [33.3330,  8.7642, 26.2473],\n",
       "        [33.7985, 35.6054, 32.5023],\n",
       "        [26.0769, 21.9953, 39.2482],\n",
       "        [25.4348, 27.5819, 41.4185]])"
      ]
     },
     "execution_count": 81,
     "metadata": {},
     "output_type": "execute_result"
    }
   ],
   "source": [
    "cloud[:15]"
   ]
  },
  {
   "cell_type": "code",
   "execution_count": 91,
   "metadata": {},
   "outputs": [
    {
     "data": {
      "text/html": [
       "<div>\n",
       "<style scoped>\n",
       "    .dataframe tbody tr th:only-of-type {\n",
       "        vertical-align: middle;\n",
       "    }\n",
       "\n",
       "    .dataframe tbody tr th {\n",
       "        vertical-align: top;\n",
       "    }\n",
       "\n",
       "    .dataframe thead th {\n",
       "        text-align: right;\n",
       "    }\n",
       "</style>\n",
       "<table border=\"1\" class=\"dataframe\">\n",
       "  <thead>\n",
       "    <tr style=\"text-align: right;\">\n",
       "      <th></th>\n",
       "      <th>x</th>\n",
       "      <th>y</th>\n",
       "      <th>z</th>\n",
       "    </tr>\n",
       "  </thead>\n",
       "  <tbody>\n",
       "    <tr>\n",
       "      <th>0</th>\n",
       "      <td>34.782505</td>\n",
       "      <td>27.116053</td>\n",
       "      <td>32.157570</td>\n",
       "    </tr>\n",
       "    <tr>\n",
       "      <th>1</th>\n",
       "      <td>30.084421</td>\n",
       "      <td>17.051107</td>\n",
       "      <td>30.414619</td>\n",
       "    </tr>\n",
       "    <tr>\n",
       "      <th>2</th>\n",
       "      <td>28.525963</td>\n",
       "      <td>28.579121</td>\n",
       "      <td>30.893648</td>\n",
       "    </tr>\n",
       "    <tr>\n",
       "      <th>3</th>\n",
       "      <td>37.611919</td>\n",
       "      <td>3.094064</td>\n",
       "      <td>30.789034</td>\n",
       "    </tr>\n",
       "    <tr>\n",
       "      <th>4</th>\n",
       "      <td>32.362823</td>\n",
       "      <td>13.741414</td>\n",
       "      <td>31.563606</td>\n",
       "    </tr>\n",
       "  </tbody>\n",
       "</table>\n",
       "</div>"
      ],
      "text/plain": [
       "           x          y          z\n",
       "0  34.782505  27.116053  32.157570\n",
       "1  30.084421  17.051107  30.414619\n",
       "2  28.525963  28.579121  30.893648\n",
       "3  37.611919   3.094064  30.789034\n",
       "4  32.362823  13.741414  31.563606"
      ]
     },
     "execution_count": 91,
     "metadata": {},
     "output_type": "execute_result"
    }
   ],
   "source": [
    "points = pd.DataFrame(cloud.numpy())\n",
    "points.columns = ['x', 'y', 'z']\n",
    "points.head()"
   ]
  },
  {
   "cell_type": "code",
   "execution_count": 96,
   "metadata": {},
   "outputs": [
    {
     "data": {
      "text/plain": [
       "PyntCloud\n",
       "32768 points with 0 scalar fields\n",
       "0 faces in mesh\n",
       "0 kdtrees\n",
       "0 voxelgrids\n",
       "Centroid: 31.44123077392578, 29.040803909301758, 33.07826232910156\n",
       "Other attributes:"
      ]
     },
     "execution_count": 96,
     "metadata": {},
     "output_type": "execute_result"
    }
   ],
   "source": [
    "pynts = PyntCloud(points)\n",
    "pynts"
   ]
  },
  {
   "cell_type": "code",
   "execution_count": 101,
   "metadata": {},
   "outputs": [
    {
     "data": {
      "image/png": "[encoded data removed]",
      "text/plain": [
       "<Figure size 720x720 with 1 Axes>"
      ]
     },
     "metadata": {
      "needs_background": "light"
     },
     "output_type": "display_data"
    }
   ],
   "source": [
    "pynts.plot(azim=10)"
   ]
  },
  {
   "cell_type": "code",
   "execution_count": 99,
   "metadata": {},
   "outputs": [
    {
     "name": "stdout",
     "output_type": "stream",
     "text": [
      "Help on function plot in module pyntcloud.core_class:\n",
      "\n",
      "plot(self, backend=None, scene=None, width=800, height=500, background='black', mesh=False, use_as_color=['red', 'green', 'blue'], initial_point_size=None, cmap='hsv', polylines=None, linewidth=5, return_scene=False, output_name='pyntcloud_plot', elev=0.0, azim=90.0, **kwargs)\n",
      "    Visualize a PyntCloud  using different backends.\n",
      "    \n",
      "    Parameters\n",
      "    ----------\n",
      "    backend: {\"pythreejs\", \"threejs\", \"pyvista\", \"matplotlib\"}, optional\n",
      "        Default: \"pythreejs\"\n",
      "        Used to select one of the available libraries for plotting.\n",
      "    \n",
      "    width: int, optional\n",
      "        Default: 800\n",
      "    \n",
      "    height: int, optional\n",
      "        Default: 500\n",
      "    \n",
      "    background: str, optional\n",
      "        Default: \"black\"\n",
      "        Used to select the default color of the background.\n",
      "        In some backends, i.e \"pythreejs\" the background can be dynamically changed.\n",
      "    \n",
      "    use_as_color: str or [\"red\", \"green\", \"blue\"], optional\n",
      "        Default: [\"red\", \"green\", \"blue\"]\n",
      "        Indicates which scalar fields will be used to colorize the rendered\n",
      "        point cloud.\n",
      "    \n",
      "    initial_point_size: the initial size of each point in the rendered point cloud.\n",
      "        Can be adjusted after rendering using slider.\n",
      "    \n",
      "    cmap: str, optional\n",
      "        Default: \"hsv\"\n",
      "        Color map that will be used to convert a single scalar field into rgb.\n",
      "        Check matplotlib cmaps.\n",
      "    \n",
      "    return_scene: bool, optional\n",
      "        Default: False.\n",
      "        Used with \"pythreejs\" backend in order to return the pythreejs.Scene object\n",
      "    \n",
      "    polylines: list of dict, optional\n",
      "        Default None.\n",
      "        List of dictionaries defining polylines with the following syntax:\n",
      "        polylines=[\n",
      "            {\n",
      "                \"color\": \"0xFFFFFF\",\n",
      "                \"vertices\": [[0, 0, 0], [0, 0, 1]]\n",
      "            },\n",
      "            {           {\n",
      "                \"color\": \"red\",\n",
      "                \"vertices\": [[0, 0, 0], [0, 0, 1], [0, 2, 0]\n",
      "            }\n",
      "        ]\n",
      "    elev: float\n",
      "        Elevation angle in the z plane. Used for matplotlib\n",
      "    azim: float\n",
      "        Azimuth angle in the x,y plane.\n",
      "\n"
     ]
    }
   ],
   "source": [
    "help(PyntCloud.plot)"
   ]
  },
  {
   "cell_type": "code",
   "execution_count": null,
   "metadata": {},
   "outputs": [],
   "source": []
  }
 ],
 "metadata": {
  "kernelspec": {
   "display_name": "Python 3",
   "language": "python",
   "name": "python3"
  },
  "language_info": {
   "codemirror_mode": {
    "name": "ipython",
    "version": 3
   },
   "file_extension": ".py",
   "mimetype": "text/x-python",
   "name": "python",
   "nbconvert_exporter": "python",
   "pygments_lexer": "ipython3",
   "version": "3.6.10"
  }
 },
 "nbformat": 4,
 "nbformat_minor": 4
}
